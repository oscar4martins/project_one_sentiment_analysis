{
 "cells": [
  {
   "cell_type": "code",
   "execution_count": 25,
   "metadata": {
    "collapsed": true
   },
   "outputs": [],
   "source": [
    "import csv\n",
    "import pandas as pd"
   ]
  },
  {
   "cell_type": "code",
   "execution_count": 26,
   "metadata": {
    "collapsed": true
   },
   "outputs": [],
   "source": [
    "from vaderSentiment.vaderSentiment import SentimentIntensityAnalyzer\n",
    "analyzer = SentimentIntensityAnalyzer()"
   ]
  },
  {
   "cell_type": "code",
   "execution_count": 27,
   "metadata": {},
   "outputs": [
    {
     "name": "stdout",
     "output_type": "stream",
     "text": [
      "Untitled.ipynb                      tweets.csv\r\n",
      "get-tweets-from-html-files.ipynb    tweets1.csv\r\n",
      "sentiment-analysis-tweet-data.ipynb tweets_data.csv\r\n",
      "\u001b[34mtweet-data\u001b[m\u001b[m\r\n"
     ]
    }
   ],
   "source": [
    "! ls"
   ]
  },
  {
   "cell_type": "code",
   "execution_count": 28,
   "metadata": {},
   "outputs": [
    {
     "data": {
      "text/html": [
       "<div>\n",
       "<style>\n",
       "    .dataframe thead tr:only-child th {\n",
       "        text-align: right;\n",
       "    }\n",
       "\n",
       "    .dataframe thead th {\n",
       "        text-align: left;\n",
       "    }\n",
       "\n",
       "    .dataframe tbody tr th {\n",
       "        vertical-align: top;\n",
       "    }\n",
       "</style>\n",
       "<table border=\"1\" class=\"dataframe\">\n",
       "  <thead>\n",
       "    <tr style=\"text-align: right;\">\n",
       "      <th></th>\n",
       "      <th>Date</th>\n",
       "      <th>Tweet</th>\n",
       "    </tr>\n",
       "  </thead>\n",
       "  <tbody>\n",
       "    <tr>\n",
       "      <th>0</th>\n",
       "      <td>14-Apr</td>\n",
       "      <td>It's not just our prices that hit you in the f...</td>\n",
       "    </tr>\n",
       "    <tr>\n",
       "      <th>1</th>\n",
       "      <td>14-Apr</td>\n",
       "      <td>Be prepared - if you cannot avoid flying\\r    ...</td>\n",
       "    </tr>\n",
       "    <tr>\n",
       "      <th>2</th>\n",
       "      <td>17-Jul</td>\n",
       "      <td>Relaxing New England is now closer than ever w...</td>\n",
       "    </tr>\n",
       "    <tr>\n",
       "      <th>3</th>\n",
       "      <td>14-Apr</td>\n",
       "      <td>Delta approves offers of up to $10,000 to flye...</td>\n",
       "    </tr>\n",
       "    <tr>\n",
       "      <th>4</th>\n",
       "      <td>14-Apr</td>\n",
       "      <td>Wow! Doctors dragged down aisles, fake police,...</td>\n",
       "    </tr>\n",
       "  </tbody>\n",
       "</table>\n",
       "</div>"
      ],
      "text/plain": [
       "     Date                                              Tweet\n",
       "0  14-Apr  It's not just our prices that hit you in the f...\n",
       "1  14-Apr  Be prepared - if you cannot avoid flying\\r    ...\n",
       "2  17-Jul  Relaxing New England is now closer than ever w...\n",
       "3  14-Apr  Delta approves offers of up to $10,000 to flye...\n",
       "4  14-Apr  Wow! Doctors dragged down aisles, fake police,..."
      ]
     },
     "execution_count": 28,
     "metadata": {},
     "output_type": "execute_result"
    }
   ],
   "source": [
    "tweet_data=pd.read_csv('tweets_data.csv', encoding='latin1')\n",
    "tweet_data.head()"
   ]
  },
  {
   "cell_type": "code",
   "execution_count": 52,
   "metadata": {
    "scrolled": true
   },
   "outputs": [
    {
     "data": {
      "text/plain": [
       "27-Mar    520\n",
       "14-Apr    385\n",
       "22-Jan    155\n",
       "11-May    150\n",
       "28-Mar    145\n",
       "28-Apr    140\n",
       "12-May    100\n",
       "21-May    100\n",
       "22-Jun    100\n",
       "3-Jan      80\n",
       "29-Apr     75\n",
       "13-Feb     75\n",
       "19-Jun     75\n",
       "8-Feb      75\n",
       "14-May     70\n",
       "2-Mar      70\n",
       "2-Jan      70\n",
       "20-Jun     65\n",
       "10-Jan     65\n",
       "23-Jun     65\n",
       "22-May     65\n",
       "21-Jun     65\n",
       "14-Jun     65\n",
       "13-May     65\n",
       "8-Jun      60\n",
       "3-Jun      60\n",
       "23-May     60\n",
       "23-Jan     60\n",
       "28-Jun     55\n",
       "27-Jan     55\n",
       "         ... \n",
       "4-Jun      25\n",
       "2-Jun      20\n",
       "20-Jan     20\n",
       "12-Feb     20\n",
       "13-Jan     20\n",
       "24-Jan     20\n",
       "3-Feb      20\n",
       "14-Mar     20\n",
       "18-Jan     20\n",
       "31-Dec     20\n",
       "17-Jul     20\n",
       "28-Jan     20\n",
       "25-Feb     20\n",
       "2-Feb      20\n",
       "31-Jan     15\n",
       "25-Jan     15\n",
       "6-Jan      15\n",
       "23-Feb     15\n",
       "29-May     15\n",
       "24-Feb     15\n",
       "6-Mar      15\n",
       "28-Feb     15\n",
       "11-Mar     10\n",
       "26-Jan     10\n",
       "1-Feb      10\n",
       "19-Feb     10\n",
       "1-Jun       5\n",
       "6-Feb       5\n",
       "15-Jun      5\n",
       "4-Feb       5\n",
       "Name: Date, Length: 120, dtype: int64"
      ]
     },
     "execution_count": 52,
     "metadata": {},
     "output_type": "execute_result"
    }
   ],
   "source": [
    "# do a value counts by date right here with the tweet_data dataframe\n",
    "\n",
    "tweet_data[\"Date\"].value_counts(sort=True)\n",
    "\n"
   ]
  },
  {
   "cell_type": "code",
   "execution_count": 38,
   "metadata": {},
   "outputs": [],
   "source": [
    "sum_tweet_compounds = 0.0\n",
    "len_tweet_compounds = len(tweet_data['Tweet'])\n",
    "error_count = 0\n",
    "for tweet in tweet_data['Tweet']:\n",
    "    try:\n",
    "        sum_tweet_compounds = sum_tweet_compounds + analyzer.polarity_scores(tweet)['compound']\n",
    "    except:\n",
    "        error_count = error_count + 1\n",
    "mean_compound_score = sum_tweet_compounds/(len_tweet_compounds-error_count)\n",
    "\n"
   ]
  },
  {
   "cell_type": "code",
   "execution_count": 41,
   "metadata": {},
   "outputs": [
    {
     "data": {
      "text/plain": [
       "6065"
      ]
     },
     "execution_count": 41,
     "metadata": {},
     "output_type": "execute_result"
    }
   ],
   "source": [
    "len_tweet_compounds"
   ]
  },
  {
   "cell_type": "code",
   "execution_count": 39,
   "metadata": {},
   "outputs": [
    {
     "data": {
      "text/plain": [
       "109.09699999999972"
      ]
     },
     "execution_count": 39,
     "metadata": {},
     "output_type": "execute_result"
    }
   ],
   "source": [
    "sum_tweet_compounds"
   ]
  },
  {
   "cell_type": "code",
   "execution_count": 40,
   "metadata": {},
   "outputs": [
    {
     "data": {
      "text/plain": [
       "50"
      ]
     },
     "execution_count": 40,
     "metadata": {},
     "output_type": "execute_result"
    }
   ],
   "source": [
    "error_count"
   ]
  },
  {
   "cell_type": "code",
   "execution_count": 42,
   "metadata": {},
   "outputs": [
    {
     "data": {
      "text/plain": [
       "0.018137489609310012"
      ]
     },
     "execution_count": 42,
     "metadata": {},
     "output_type": "execute_result"
    }
   ],
   "source": [
    "mean_compound_score"
   ]
  },
  {
   "cell_type": "code",
   "execution_count": null,
   "metadata": {
    "collapsed": true
   },
   "outputs": [],
   "source": [
    "# make a dictionary\n",
    "# loop over the data \n",
    "# if we spot a date, check if it's in the dictionary, if not then put it in \n",
    "# and add the compound score to the value at that point in the dictionary\n",
    "# if it is, then just add the value tothat point in the dictionary"
   ]
  },
  {
   "cell_type": "code",
   "execution_count": null,
   "metadata": {
    "collapsed": true
   },
   "outputs": [],
   "source": [
    "# # test\n",
    "# tweet_comp_date_dict = {}\n",
    "\n",
    "# if tweet_comp_date_dict.get('a') == None:\n",
    "#     tweet_comp_date_dict['a'] = 0\n",
    "\n",
    "# tweet_comp_date_dict "
   ]
  },
  {
   "cell_type": "code",
   "execution_count": 108,
   "metadata": {},
   "outputs": [],
   "source": [
    "tweet_comp_sum_per_date_dict = {}\n",
    "tweet_count_per_date_dict = {}\n",
    "error_count = 0\n",
    "for tweet_ob in tweet_data.iterrows():\n",
    "    try:\n",
    "        date = tweet_ob[1]['Date']\n",
    "        tweet = tweet_ob[1]['Tweet']\n",
    "        # print(date)\n",
    "        # print(tweet)\n",
    "        comp = analyzer.polarity_scores(tweet)['compound']\n",
    "        # print(comp)\n",
    "        if tweet_comp_sum_per_date_dict.get(date) == None:\n",
    "            tweet_comp_sum_per_date_dict[date] = comp\n",
    "            tweet_count_per_date_dict[date] = 1\n",
    "        else:\n",
    "            tweet_comp_sum_per_date_dict[date] = tweet_comp_sum_per_date_dict[date] + comp\n",
    "            tweet_count_per_date_dict[date] = tweet_count_per_date_dict[date]+1\n",
    "    except:\n",
    "        error_count = error_count + 1"
   ]
  },
  {
   "cell_type": "code",
   "execution_count": 99,
   "metadata": {},
   "outputs": [
    {
     "data": {
      "text/plain": [
       "50"
      ]
     },
     "execution_count": 99,
     "metadata": {},
     "output_type": "execute_result"
    }
   ],
   "source": [
    "error_count"
   ]
  },
  {
   "cell_type": "code",
   "execution_count": 100,
   "metadata": {},
   "outputs": [
    {
     "data": {
      "text/plain": [
       "{'1-Feb': 10,\n",
       " '1-Jan': 40,\n",
       " '1-Jun': 5,\n",
       " '1-Mar': 40,\n",
       " '10-Feb': 40,\n",
       " '10-Jan': 65,\n",
       " '10-Jun': 50,\n",
       " '10-Mar': 25,\n",
       " '11-Feb': 40,\n",
       " '11-Jan': 50,\n",
       " '11-Jun': 50,\n",
       " '11-Mar': 10,\n",
       " '11-May': 150,\n",
       " '12-Feb': 20,\n",
       " '12-Jan': 35,\n",
       " '12-Jun': 50,\n",
       " '12-Mar': 35,\n",
       " '12-May': 95,\n",
       " '13-Feb': 75,\n",
       " '13-Jan': 20,\n",
       " '13-Jun': 50,\n",
       " '13-Mar': 35,\n",
       " '13-May': 60,\n",
       " '14-Apr': 385,\n",
       " '14-Jan': 25,\n",
       " '14-Jun': 65,\n",
       " '14-Mar': 20,\n",
       " '14-May': 70,\n",
       " '15-Jun': 5,\n",
       " '16-Feb': 45,\n",
       " '16-Jun': 50,\n",
       " '17-Feb': 30,\n",
       " '17-Jan': 40,\n",
       " '17-Jul': 20,\n",
       " '17-Jun': 45,\n",
       " '18-Feb': 30,\n",
       " '18-Jan': 20,\n",
       " '18-Jun': 45,\n",
       " '18-May': 55,\n",
       " '19-Feb': 10,\n",
       " '19-Jan': 25,\n",
       " '19-Jun': 75,\n",
       " '19-May': 55,\n",
       " '2-Feb': 20,\n",
       " '2-Jan': 70,\n",
       " '2-Jun': 20,\n",
       " '2-Mar': 70,\n",
       " '20-Feb': 25,\n",
       " '20-Jan': 20,\n",
       " '20-Jun': 65,\n",
       " '20-May': 50,\n",
       " '21-Feb': 25,\n",
       " '21-Jan': 50,\n",
       " '21-Jun': 65,\n",
       " '21-May': 100,\n",
       " '22-Feb': 25,\n",
       " '22-Jan': 145,\n",
       " '22-Jun': 95,\n",
       " '22-May': 65,\n",
       " '23-Feb': 15,\n",
       " '23-Jan': 60,\n",
       " '23-Jun': 65,\n",
       " '23-May': 60,\n",
       " '24-Feb': 15,\n",
       " '24-Jan': 20,\n",
       " '24-Jun': 45,\n",
       " '24-May': 50,\n",
       " '25-Feb': 20,\n",
       " '25-Jan': 15,\n",
       " '25-Jun': 40,\n",
       " '25-May': 50,\n",
       " '26-Feb': 40,\n",
       " '26-Jan': 10,\n",
       " '26-Jun': 50,\n",
       " '26-May': 50,\n",
       " '27-Feb': 25,\n",
       " '27-Jan': 55,\n",
       " '27-Jun': 35,\n",
       " '27-Mar': 515,\n",
       " '27-May': 55,\n",
       " '28-Apr': 140,\n",
       " '28-Feb': 15,\n",
       " '28-Jan': 20,\n",
       " '28-Jun': 55,\n",
       " '28-Mar': 145,\n",
       " '28-May': 50,\n",
       " '29-Apr': 75,\n",
       " '29-Jun': 45,\n",
       " '29-Mar': 30,\n",
       " '29-May': 15,\n",
       " '3-Feb': 20,\n",
       " '3-Jan': 80,\n",
       " '3-Jun': 60,\n",
       " '3-Mar': 40,\n",
       " '31-Dec': 20,\n",
       " '31-Jan': 15,\n",
       " '4-Feb': 5,\n",
       " '4-Jan': 45,\n",
       " '4-Jun': 25,\n",
       " '4-Mar': 45,\n",
       " '5-Feb': 35,\n",
       " '5-Jan': 40,\n",
       " '5-Jun': 35,\n",
       " '5-Mar': 25,\n",
       " '6-Feb': 5,\n",
       " '6-Jan': 15,\n",
       " '6-Jun': 45,\n",
       " '6-Mar': 15,\n",
       " '7-Feb': 30,\n",
       " '7-Jan': 40,\n",
       " '7-Jun': 50,\n",
       " '7-Mar': 45,\n",
       " '8-Feb': 75,\n",
       " '8-Jan': 30,\n",
       " '8-Jun': 60,\n",
       " '8-Mar': 30,\n",
       " '9-Feb': 25,\n",
       " '9-Jan': 35,\n",
       " '9-Jun': 35,\n",
       " '9-Mar': 35}"
      ]
     },
     "execution_count": 100,
     "metadata": {},
     "output_type": "execute_result"
    }
   ],
   "source": [
    "tweet_count_per_date_dict"
   ]
  },
  {
   "cell_type": "code",
   "execution_count": 101,
   "metadata": {
    "scrolled": true
   },
   "outputs": [
    {
     "data": {
      "text/plain": [
       "{'1-Feb': 2.1399999999999997,\n",
       " '1-Jan': 0.8729999999999993,\n",
       " '1-Jun': 0.0,\n",
       " '1-Mar': 8.4055,\n",
       " '10-Feb': -1.1580000000000004,\n",
       " '10-Jan': -3.0980000000000003,\n",
       " '10-Jun': 17.388999999999996,\n",
       " '10-Mar': 5.4515,\n",
       " '11-Feb': 12.8685,\n",
       " '11-Jan': -8.6155,\n",
       " '11-Jun': -4.308499999999999,\n",
       " '11-Mar': 3.348,\n",
       " '11-May': -13.754500000000004,\n",
       " '12-Feb': 0.4074999999999998,\n",
       " '12-Jan': 3.2485000000000004,\n",
       " '12-Jun': 6.68,\n",
       " '12-Mar': 4.136500000000001,\n",
       " '12-May': -13.853499999999997,\n",
       " '13-Feb': -21.425,\n",
       " '13-Jan': 1.9985000000000004,\n",
       " '13-Jun': -4.445,\n",
       " '13-Mar': -7.280500000000002,\n",
       " '13-May': -9.6445,\n",
       " '14-Apr': 13.319000000000008,\n",
       " '14-Jan': 4.556,\n",
       " '14-Jun': -2.0949999999999998,\n",
       " '14-Mar': 1.9529999999999998,\n",
       " '14-May': 16.042999999999996,\n",
       " '15-Jun': -2.9915000000000003,\n",
       " '16-Feb': 14.713000000000006,\n",
       " '16-Jun': -7.268499999999999,\n",
       " '17-Feb': 1.3999999999999995,\n",
       " '17-Jan': 2.2654999999999985,\n",
       " '17-Jul': 9.878,\n",
       " '17-Jun': 10.745500000000002,\n",
       " '18-Feb': -3.212000000000001,\n",
       " '18-Jan': -4.131999999999998,\n",
       " '18-Jun': -2.2014999999999993,\n",
       " '18-May': -20.998500000000003,\n",
       " '19-Feb': -4.189500000000001,\n",
       " '19-Jan': 7.488000000000002,\n",
       " '19-Jun': -6.295000000000003,\n",
       " '19-May': 7.5115,\n",
       " '2-Feb': 3.5795,\n",
       " '2-Jan': 1.6550000000000011,\n",
       " '2-Jun': 0.5080000000000001,\n",
       " '2-Mar': -0.2744999999999983,\n",
       " '20-Feb': 5.2555,\n",
       " '20-Jan': -3.1095,\n",
       " '20-Jun': -1.554500000000001,\n",
       " '20-May': 18.2015,\n",
       " '21-Feb': 0.46250000000000013,\n",
       " '21-Jan': 10.366500000000004,\n",
       " '21-Jun': 10.283000000000001,\n",
       " '21-May': -3.395000000000001,\n",
       " '22-Feb': -2.3729999999999993,\n",
       " '22-Jan': 8.161500000000004,\n",
       " '22-Jun': -10.465,\n",
       " '22-May': -8.181999999999999,\n",
       " '23-Feb': -4.044,\n",
       " '23-Jan': -3.123500000000001,\n",
       " '23-Jun': 11.032499999999994,\n",
       " '23-May': -2.072,\n",
       " '24-Feb': 2.1009999999999995,\n",
       " '24-Jan': 5.104500000000001,\n",
       " '24-Jun': -4.952999999999999,\n",
       " '24-May': 3.511000000000001,\n",
       " '25-Feb': -1.626,\n",
       " '25-Jan': -1.4425,\n",
       " '25-Jun': 7.774499999999997,\n",
       " '25-May': 6.523500000000001,\n",
       " '26-Feb': 8.984000000000002,\n",
       " '26-Jan': 1.5859999999999999,\n",
       " '26-Jun': 8.6135,\n",
       " '26-May': -1.1444999999999987,\n",
       " '27-Feb': 6.0335,\n",
       " '27-Jan': 15.823,\n",
       " '27-Jun': 9.240499999999997,\n",
       " '27-Mar': 22.39350000000003,\n",
       " '27-May': 0.6294999999999997,\n",
       " '28-Apr': -13.9425,\n",
       " '28-Feb': 0.7519999999999999,\n",
       " '28-Jan': -1.25,\n",
       " '28-Jun': 10.457499999999998,\n",
       " '28-Mar': 14.381499999999988,\n",
       " '28-May': 2.781999999999999,\n",
       " '29-Apr': -7.838500000000002,\n",
       " '29-Jun': -8.7705,\n",
       " '29-Mar': 1.7525000000000008,\n",
       " '29-May': 2.3100000000000005,\n",
       " '3-Feb': 0.07099999999999995,\n",
       " '3-Jan': -3.4165000000000005,\n",
       " '3-Jun': 1.6389999999999993,\n",
       " '3-Mar': 14.133,\n",
       " '31-Dec': -1.6345,\n",
       " '31-Jan': -2.4869999999999997,\n",
       " '4-Feb': 3.4539999999999997,\n",
       " '4-Jan': 4.108,\n",
       " '4-Jun': -5.500000000000001,\n",
       " '4-Mar': 6.500499999999999,\n",
       " '5-Feb': 3.8390000000000013,\n",
       " '5-Jan': 0.027999999999999692,\n",
       " '5-Jun': -3.013499999999999,\n",
       " '5-Mar': 1.6890000000000007,\n",
       " '6-Feb': -0.8895,\n",
       " '6-Jan': -6.6535,\n",
       " '6-Jun': 0.516,\n",
       " '6-Mar': 0.055499999999999994,\n",
       " '7-Feb': 1.1104999999999998,\n",
       " '7-Jan': 0.9275,\n",
       " '7-Jun': -7.370000000000001,\n",
       " '7-Mar': -1.8545000000000007,\n",
       " '8-Feb': -16.811000000000003,\n",
       " '8-Jan': 4.188,\n",
       " '8-Jun': -13.803,\n",
       " '8-Mar': 5.051500000000001,\n",
       " '9-Feb': -0.8595000000000006,\n",
       " '9-Jan': -7.021500000000003,\n",
       " '9-Jun': -4.6615,\n",
       " '9-Mar': 1.2110000000000003}"
      ]
     },
     "execution_count": 101,
     "metadata": {},
     "output_type": "execute_result"
    }
   ],
   "source": [
    "tweet_comp_sum_per_date_dict"
   ]
  },
  {
   "cell_type": "code",
   "execution_count": 106,
   "metadata": {},
   "outputs": [
    {
     "data": {
      "text/plain": [
       "{'1-Feb': 0.21399999999999997,\n",
       " '1-Jan': 0.021824999999999983,\n",
       " '1-Jun': 0.0,\n",
       " '1-Mar': 0.2101375,\n",
       " '10-Feb': -0.02895000000000001,\n",
       " '10-Jan': -0.047661538461538464,\n",
       " '10-Jun': 0.3477799999999999,\n",
       " '10-Mar': 0.21806,\n",
       " '11-Feb': 0.32171249999999996,\n",
       " '11-Jan': -0.17231000000000002,\n",
       " '11-Jun': -0.08616999999999997,\n",
       " '11-Mar': 0.3348,\n",
       " '11-May': -0.09169666666666669,\n",
       " '12-Feb': 0.02037499999999999,\n",
       " '12-Jan': 0.09281428571428572,\n",
       " '12-Jun': 0.1336,\n",
       " '12-Mar': 0.11818571428571431,\n",
       " '12-May': -0.14582631578947364,\n",
       " '13-Feb': -0.2856666666666667,\n",
       " '13-Jan': 0.09992500000000001,\n",
       " '13-Jun': -0.0889,\n",
       " '13-Mar': -0.20801428571428576,\n",
       " '13-May': -0.16074166666666667,\n",
       " '14-Apr': 0.03459480519480521,\n",
       " '14-Jan': 0.18224,\n",
       " '14-Jun': -0.03223076923076923,\n",
       " '14-Mar': 0.09764999999999999,\n",
       " '14-May': 0.22918571428571421,\n",
       " '15-Jun': -0.5983,\n",
       " '16-Feb': 0.3269555555555557,\n",
       " '16-Jun': -0.14536999999999997,\n",
       " '17-Feb': 0.04666666666666665,\n",
       " '17-Jan': 0.056637499999999966,\n",
       " '17-Jul': 0.4939,\n",
       " '17-Jun': 0.2387888888888889,\n",
       " '18-Feb': -0.1070666666666667,\n",
       " '18-Jan': -0.2065999999999999,\n",
       " '18-Jun': -0.04892222222222221,\n",
       " '18-May': -0.3817909090909092,\n",
       " '19-Feb': -0.41895000000000004,\n",
       " '19-Jan': 0.29952000000000006,\n",
       " '19-Jun': -0.08393333333333337,\n",
       " '19-May': 0.13657272727272726,\n",
       " '2-Feb': 0.178975,\n",
       " '2-Jan': 0.02364285714285716,\n",
       " '2-Jun': 0.025400000000000006,\n",
       " '2-Mar': -0.003921428571428547,\n",
       " '20-Feb': 0.21022,\n",
       " '20-Jan': -0.155475,\n",
       " '20-Jun': -0.023915384615384633,\n",
       " '20-May': 0.36402999999999996,\n",
       " '21-Feb': 0.018500000000000006,\n",
       " '21-Jan': 0.20733000000000007,\n",
       " '21-Jun': 0.1582,\n",
       " '21-May': -0.03395000000000001,\n",
       " '22-Feb': -0.09491999999999998,\n",
       " '22-Jan': 0.05628620689655175,\n",
       " '22-Jun': -0.11015789473684211,\n",
       " '22-May': -0.12587692307692305,\n",
       " '23-Feb': -0.26959999999999995,\n",
       " '23-Jan': -0.052058333333333345,\n",
       " '23-Jun': 0.16973076923076913,\n",
       " '23-May': -0.03453333333333333,\n",
       " '24-Feb': 0.14006666666666664,\n",
       " '24-Jan': 0.25522500000000004,\n",
       " '24-Jun': -0.11006666666666666,\n",
       " '24-May': 0.07022000000000002,\n",
       " '25-Feb': -0.0813,\n",
       " '25-Jan': -0.09616666666666666,\n",
       " '25-Jun': 0.19436249999999994,\n",
       " '25-May': 0.13047000000000003,\n",
       " '26-Feb': 0.22460000000000005,\n",
       " '26-Jan': 0.1586,\n",
       " '26-Jun': 0.17227,\n",
       " '26-May': -0.022889999999999976,\n",
       " '27-Feb': 0.24134,\n",
       " '27-Jan': 0.2876909090909091,\n",
       " '27-Jun': 0.26401428571428565,\n",
       " '27-Mar': 0.04348252427184472,\n",
       " '27-May': 0.01144545454545454,\n",
       " '28-Apr': -0.09958928571428571,\n",
       " '28-Feb': 0.05013333333333333,\n",
       " '28-Jan': -0.0625,\n",
       " '28-Jun': 0.1901363636363636,\n",
       " '28-Mar': 0.09918275862068958,\n",
       " '28-May': 0.05563999999999998,\n",
       " '29-Apr': -0.10451333333333336,\n",
       " '29-Jun': -0.19490000000000002,\n",
       " '29-Mar': 0.05841666666666669,\n",
       " '29-May': 0.15400000000000003,\n",
       " '3-Feb': 0.0035499999999999976,\n",
       " '3-Jan': -0.04270625000000001,\n",
       " '3-Jun': 0.027316666666666656,\n",
       " '3-Mar': 0.353325,\n",
       " '31-Dec': -0.081725,\n",
       " '31-Jan': -0.16579999999999998,\n",
       " '4-Feb': 0.6908,\n",
       " '4-Jan': 0.09128888888888888,\n",
       " '4-Jun': -0.22000000000000003,\n",
       " '4-Mar': 0.14445555555555553,\n",
       " '5-Feb': 0.10968571428571432,\n",
       " '5-Jan': 0.0006999999999999923,\n",
       " '5-Jun': -0.08609999999999998,\n",
       " '5-Mar': 0.06756000000000002,\n",
       " '6-Feb': -0.1779,\n",
       " '6-Jan': -0.44356666666666666,\n",
       " '6-Jun': 0.011466666666666667,\n",
       " '6-Mar': 0.0036999999999999997,\n",
       " '7-Feb': 0.03701666666666666,\n",
       " '7-Jan': 0.0231875,\n",
       " '7-Jun': -0.14740000000000003,\n",
       " '7-Mar': -0.04121111111111113,\n",
       " '8-Feb': -0.22414666666666672,\n",
       " '8-Jan': 0.1396,\n",
       " '8-Jun': -0.23005,\n",
       " '8-Mar': 0.16838333333333336,\n",
       " '9-Feb': -0.03438000000000002,\n",
       " '9-Jan': -0.2006142857142858,\n",
       " '9-Jun': -0.1331857142857143,\n",
       " '9-Mar': 0.034600000000000006}"
      ]
     },
     "execution_count": 106,
     "metadata": {},
     "output_type": "execute_result"
    }
   ],
   "source": [
    "tweet_comp_mean_per_date_dict = {}\n",
    "\n",
    "for date in tweet_comp_sum_per_date_dict:\n",
    "    if tweet_comp_mean_per_date_dict.get(date) == None:\n",
    "        summ = tweet_comp_sum_per_date_dict[date]\n",
    "        countt = tweet_count_per_date_dict[date]\n",
    "        tweet_comp_mean_per_date_dict[date] = summ/countt\n",
    "\n",
    "tweet_comp_mean_per_date_dict"
   ]
  },
  {
   "cell_type": "code",
   "execution_count": 120,
   "metadata": {},
   "outputs": [],
   "source": [
    "overall_df = pd.DataFrame(list(tweet_comp_mean_per_date_dict.items()), \n",
    "                          columns=['Date', 'Mean Compound Score'])"
   ]
  },
  {
   "cell_type": "code",
   "execution_count": 121,
   "metadata": {
    "collapsed": true
   },
   "outputs": [],
   "source": [
    "overall_df.to_csv('final-tweet-analysis.csv', index=False)\n"
   ]
  },
  {
   "cell_type": "code",
   "execution_count": 122,
   "metadata": {
    "scrolled": true
   },
   "outputs": [
    {
     "name": "stdout",
     "output_type": "stream",
     "text": [
      "Untitled.ipynb                      \u001b[34mtweet-data\u001b[m\u001b[m\r\n",
      "final-tweet-analysis.csv            tweets.csv\r\n",
      "get-tweets-from-html-files.ipynb    tweets1.csv\r\n",
      "sentiment-analysis-tweet-data.ipynb tweets_data.csv\r\n"
     ]
    }
   ],
   "source": [
    "!ls"
   ]
  },
  {
   "cell_type": "code",
   "execution_count": 123,
   "metadata": {},
   "outputs": [
    {
     "name": "stdout",
     "output_type": "stream",
     "text": [
      "Date,Mean Compound Score\r\n",
      "14-Apr,0.03459480519480521\r\n",
      "17-Jul,0.4939\r\n",
      "29-Apr,-0.10451333333333336\r\n",
      "28-Apr,-0.09958928571428571\r\n",
      "13-Feb,-0.2856666666666667\r\n",
      "12-Feb,0.02037499999999999\r\n",
      "11-Feb,0.32171249999999996\r\n",
      "10-Feb,-0.02895000000000001\r\n",
      "9-Feb,-0.03438000000000002\r\n",
      "8-Feb,-0.22414666666666672\r\n",
      "7-Feb,0.03701666666666666\r\n",
      "6-Feb,-0.1779\r\n",
      "5-Feb,0.10968571428571432\r\n",
      "4-Feb,0.6908\r\n",
      "3-Feb,0.0035499999999999976\r\n",
      "2-Feb,0.178975\r\n",
      "1-Feb,0.21399999999999997\r\n",
      "31-Jan,-0.16579999999999998\r\n",
      "27-Feb,0.24134\r\n",
      "26-Feb,0.22460000000000005\r\n",
      "25-Feb,-0.0813\r\n",
      "24-Feb,0.14006666666666664\r\n",
      "23-Feb,-0.26959999999999995\r\n",
      "22-Feb,-0.09491999999999998\r\n",
      "21-Feb,0.018500000000000006\r\n",
      "20-Feb,0.21022\r\n",
      "19-Feb,-0.41895000000000004\r\n",
      "18-Feb,-0.1070666666666667\r\n",
      "17-Feb,0.04666666666666665\r\n",
      "16-Feb,0.3269555555555557\r\n",
      "14-Jan,0.18224\r\n",
      "13-Jan,0.09992500000000001\r\n",
      "12-Jan,0.09281428571428572\r\n",
      "11-Jan,-0.17231000000000002\r\n",
      "10-Jan,-0.047661538461538464\r\n",
      "9-Jan,-0.2006142857142858\r\n",
      "8-Jan,0.1396\r\n",
      "7-Jan,0.0231875\r\n",
      "6-Jan,-0.44356666666666666\r\n",
      "5-Jan,0.0006999999999999923\r\n",
      "4-Jan,0.09128888888888888\r\n",
      "3-Jan,-0.04270625000000001\r\n",
      "2-Jan,0.02364285714285716\r\n",
      "1-Jan,0.021824999999999983\r\n",
      "31-Dec,-0.081725\r\n",
      "28-Jan,-0.0625\r\n",
      "27-Jan,0.2876909090909091\r\n",
      "26-Jan,0.1586\r\n",
      "25-Jan,-0.09616666666666666\r\n",
      "24-Jan,0.25522500000000004\r\n",
      "23-Jan,-0.052058333333333345\r\n",
      "22-Jan,0.05628620689655175\r\n",
      "21-Jan,0.20733000000000007\r\n",
      "20-Jan,-0.155475\r\n",
      "19-Jan,0.29952000000000006\r\n",
      "18-Jan,-0.2065999999999999\r\n",
      "17-Jan,0.056637499999999966\r\n",
      "13-Jun,-0.0889\r\n",
      "14-Jun,-0.03223076923076923\r\n",
      "12-Jun,0.1336\r\n",
      "11-Jun,-0.08616999999999997\r\n",
      "10-Jun,0.3477799999999999\r\n",
      "9-Jun,-0.1331857142857143\r\n",
      "8-Jun,-0.23005\r\n",
      "7-Jun,-0.14740000000000003\r\n",
      "6-Jun,0.011466666666666667\r\n",
      "5-Jun,-0.08609999999999998\r\n",
      "4-Jun,-0.22000000000000003\r\n",
      "3-Jun,0.027316666666666656\r\n",
      "2-Jun,0.025400000000000006\r\n",
      "1-Jun,0.0\r\n",
      "29-Jun,-0.19490000000000002\r\n",
      "28-Jun,0.1901363636363636\r\n",
      "27-Jun,0.26401428571428565\r\n",
      "26-Jun,0.17227\r\n",
      "25-Jun,0.19436249999999994\r\n",
      "24-Jun,-0.11006666666666666\r\n",
      "23-Jun,0.16973076923076913\r\n",
      "22-Jun,-0.11015789473684211\r\n",
      "21-Jun,0.1582\r\n",
      "20-Jun,-0.023915384615384633\r\n",
      "19-Jun,-0.08393333333333337\r\n",
      "18-Jun,-0.04892222222222221\r\n",
      "17-Jun,0.2387888888888889\r\n",
      "16-Jun,-0.14536999999999997\r\n",
      "15-Jun,-0.5983\r\n",
      "14-Mar,0.09764999999999999\r\n",
      "13-Mar,-0.20801428571428576\r\n",
      "12-Mar,0.11818571428571431\r\n",
      "11-Mar,0.3348\r\n",
      "10-Mar,0.21806\r\n",
      "9-Mar,0.034600000000000006\r\n",
      "8-Mar,0.16838333333333336\r\n",
      "7-Mar,-0.04121111111111113\r\n",
      "6-Mar,0.0036999999999999997\r\n",
      "5-Mar,0.06756000000000002\r\n",
      "4-Mar,0.14445555555555553\r\n",
      "3-Mar,0.353325\r\n",
      "2-Mar,-0.003921428571428547\r\n",
      "1-Mar,0.2101375\r\n",
      "28-Feb,0.05013333333333333\r\n",
      "29-Mar,0.05841666666666669\r\n",
      "28-Mar,0.09918275862068958\r\n",
      "27-Mar,0.04348252427184472\r\n",
      "14-May,0.22918571428571421\r\n",
      "13-May,-0.16074166666666667\r\n",
      "12-May,-0.14582631578947364\r\n",
      "11-May,-0.09169666666666669\r\n",
      "29-May,0.15400000000000003\r\n",
      "28-May,0.05563999999999998\r\n",
      "27-May,0.01144545454545454\r\n",
      "26-May,-0.022889999999999976\r\n",
      "25-May,0.13047000000000003\r\n",
      "24-May,0.07022000000000002\r\n",
      "23-May,-0.03453333333333333\r\n",
      "22-May,-0.12587692307692305\r\n",
      "21-May,-0.03395000000000001\r\n",
      "20-May,0.36402999999999996\r\n",
      "19-May,0.13657272727272726\r\n",
      "18-May,-0.3817909090909092\r\n"
     ]
    }
   ],
   "source": [
    "!cat final-tweet-analysis.csv"
   ]
  },
  {
   "cell_type": "code",
   "execution_count": 30,
   "metadata": {
    "collapsed": true
   },
   "outputs": [],
   "source": [
    "# # Open each of the samples\n",
    "# with open(\"tweets1.csv\") as tweet_results:\n",
    "#     tweet_results = tweet_results.read()"
   ]
  },
  {
   "cell_type": "code",
   "execution_count": null,
   "metadata": {},
   "outputs": [],
   "source": [
    "# for x in tweet_results:\n",
    "#     compound = analyzer.polarity_scores(x)[\"compound\"]\n",
    "#     pos = analyzer.polarity_scores(x)[\"pos\"]\n",
    "#     neu = analyzer.polarity_scores(x)[\"neu\"]\n",
    "#     neg = analyzer.polarity_scores(x)[\"neg\"]\n",
    "# print(x)\n",
    "# print(f\"Compound Score: {compound}\")\n",
    "# print(f\"Positive Score: {pos}\")\n",
    "# print(f\"Neutral Score: {neu}\")\n",
    "# print(f\"Negative Score: {neg}\")"
   ]
  }
 ],
 "metadata": {
  "kernelspec": {
   "display_name": "Python 3",
   "language": "python",
   "name": "python3"
  },
  "language_info": {
   "codemirror_mode": {
    "name": "ipython",
    "version": 3
   },
   "file_extension": ".py",
   "mimetype": "text/x-python",
   "name": "python",
   "nbconvert_exporter": "python",
   "pygments_lexer": "ipython3",
   "version": "3.6.1"
  }
 },
 "nbformat": 4,
 "nbformat_minor": 2
}
